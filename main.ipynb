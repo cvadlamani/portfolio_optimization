{
  "cells": [
    {
      "cell_type": "markdown",
      "metadata": {
        "id": "m49EtpeL69Xz"
      },
      "source": [
        "# Portfolio Optimizaiton Using Dirac"
      ]
    },
    {
      "cell_type": "markdown",
      "metadata": {},
      "source": [
        "Install the following dependencies:"
      ]
    },
    {
      "cell_type": "code",
      "execution_count": 1,
      "metadata": {
        "id": "AcbdE7B9LJ9t"
      },
      "outputs": [
        {
          "name": "stdout",
          "output_type": "stream",
          "text": [
            "Requirement already satisfied: pandas in c:\\users\\chitra vadlamani\\appdata\\local\\programs\\python\\python312\\lib\\site-packages (2.2.2)\n",
            "Requirement already satisfied: numpy>=1.26.0 in c:\\users\\chitra vadlamani\\appdata\\local\\programs\\python\\python312\\lib\\site-packages (from pandas) (1.26.4)\n",
            "Requirement already satisfied: python-dateutil>=2.8.2 in c:\\users\\chitra vadlamani\\appdata\\roaming\\python\\python312\\site-packages (from pandas) (2.9.0.post0)\n",
            "Requirement already satisfied: pytz>=2020.1 in c:\\users\\chitra vadlamani\\appdata\\local\\programs\\python\\python312\\lib\\site-packages (from pandas) (2024.1)\n",
            "Requirement already satisfied: tzdata>=2022.7 in c:\\users\\chitra vadlamani\\appdata\\local\\programs\\python\\python312\\lib\\site-packages (from pandas) (2024.1)\n",
            "Requirement already satisfied: six>=1.5 in c:\\users\\chitra vadlamani\\appdata\\roaming\\python\\python312\\site-packages (from python-dateutil>=2.8.2->pandas) (1.16.0)\n",
            "Note: you may need to restart the kernel to use updated packages.\n"
          ]
        }
      ],
      "source": [
        "pip install pandas"
      ]
    },
    {
      "cell_type": "code",
      "execution_count": 2,
      "metadata": {},
      "outputs": [
        {
          "name": "stdout",
          "output_type": "stream",
          "text": [
            "Requirement already satisfied: IPython in c:\\users\\chitra vadlamani\\appdata\\roaming\\python\\python312\\site-packages (8.25.0)\n",
            "Requirement already satisfied: decorator in c:\\users\\chitra vadlamani\\appdata\\roaming\\python\\python312\\site-packages (from IPython) (5.1.1)\n",
            "Requirement already satisfied: jedi>=0.16 in c:\\users\\chitra vadlamani\\appdata\\roaming\\python\\python312\\site-packages (from IPython) (0.19.1)\n",
            "Requirement already satisfied: matplotlib-inline in c:\\users\\chitra vadlamani\\appdata\\roaming\\python\\python312\\site-packages (from IPython) (0.1.7)\n",
            "Requirement already satisfied: prompt-toolkit<3.1.0,>=3.0.41 in c:\\users\\chitra vadlamani\\appdata\\roaming\\python\\python312\\site-packages (from IPython) (3.0.47)\n",
            "Requirement already satisfied: pygments>=2.4.0 in c:\\users\\chitra vadlamani\\appdata\\roaming\\python\\python312\\site-packages (from IPython) (2.18.0)\n",
            "Requirement already satisfied: stack-data in c:\\users\\chitra vadlamani\\appdata\\roaming\\python\\python312\\site-packages (from IPython) (0.6.3)\n",
            "Requirement already satisfied: traitlets>=5.13.0 in c:\\users\\chitra vadlamani\\appdata\\roaming\\python\\python312\\site-packages (from IPython) (5.14.3)\n",
            "Requirement already satisfied: colorama in c:\\users\\chitra vadlamani\\appdata\\roaming\\python\\python312\\site-packages (from IPython) (0.4.6)\n",
            "Requirement already satisfied: parso<0.9.0,>=0.8.3 in c:\\users\\chitra vadlamani\\appdata\\roaming\\python\\python312\\site-packages (from jedi>=0.16->IPython) (0.8.4)\n",
            "Requirement already satisfied: wcwidth in c:\\users\\chitra vadlamani\\appdata\\roaming\\python\\python312\\site-packages (from prompt-toolkit<3.1.0,>=3.0.41->IPython) (0.2.13)\n",
            "Requirement already satisfied: executing>=1.2.0 in c:\\users\\chitra vadlamani\\appdata\\roaming\\python\\python312\\site-packages (from stack-data->IPython) (2.0.1)\n",
            "Requirement already satisfied: asttokens>=2.1.0 in c:\\users\\chitra vadlamani\\appdata\\roaming\\python\\python312\\site-packages (from stack-data->IPython) (2.4.1)\n",
            "Requirement already satisfied: pure-eval in c:\\users\\chitra vadlamani\\appdata\\roaming\\python\\python312\\site-packages (from stack-data->IPython) (0.2.2)\n",
            "Requirement already satisfied: six>=1.12.0 in c:\\users\\chitra vadlamani\\appdata\\roaming\\python\\python312\\site-packages (from asttokens>=2.1.0->stack-data->IPython) (1.16.0)\n",
            "Note: you may need to restart the kernel to use updated packages.\n"
          ]
        }
      ],
      "source": [
        "pip install IPython"
      ]
    },
    {
      "cell_type": "code",
      "execution_count": 3,
      "metadata": {},
      "outputs": [
        {
          "name": "stdout",
          "output_type": "stream",
          "text": [
            "Requirement already satisfied: qci-client<5 in c:\\users\\chitra vadlamani\\appdata\\local\\programs\\python\\python312\\lib\\site-packages (4.0.0)\n",
            "Requirement already satisfied: requests<3,>=2.22.1 in c:\\users\\chitra vadlamani\\appdata\\local\\programs\\python\\python312\\lib\\site-packages (from qci-client<5) (2.32.3)\n",
            "Requirement already satisfied: requests-futures<2,>=1.0.0 in c:\\users\\chitra vadlamani\\appdata\\local\\programs\\python\\python312\\lib\\site-packages (from qci-client<5) (1.0.1)\n",
            "Requirement already satisfied: networkx<3,>=2.6.3 in c:\\users\\chitra vadlamani\\appdata\\local\\programs\\python\\python312\\lib\\site-packages (from qci-client<5) (2.8.8)\n",
            "Requirement already satisfied: numpy<2,>=1.21.1 in c:\\users\\chitra vadlamani\\appdata\\local\\programs\\python\\python312\\lib\\site-packages (from qci-client<5) (1.26.4)\n",
            "Requirement already satisfied: scipy<2,>=1.7.3 in c:\\users\\chitra vadlamani\\appdata\\local\\programs\\python\\python312\\lib\\site-packages (from qci-client<5) (1.13.1)\n",
            "Requirement already satisfied: charset-normalizer<4,>=2 in c:\\users\\chitra vadlamani\\appdata\\local\\programs\\python\\python312\\lib\\site-packages (from requests<3,>=2.22.1->qci-client<5) (3.3.2)\n",
            "Requirement already satisfied: idna<4,>=2.5 in c:\\users\\chitra vadlamani\\appdata\\local\\programs\\python\\python312\\lib\\site-packages (from requests<3,>=2.22.1->qci-client<5) (3.7)\n",
            "Requirement already satisfied: urllib3<3,>=1.21.1 in c:\\users\\chitra vadlamani\\appdata\\local\\programs\\python\\python312\\lib\\site-packages (from requests<3,>=2.22.1->qci-client<5) (2.2.1)\n",
            "Requirement already satisfied: certifi>=2017.4.17 in c:\\users\\chitra vadlamani\\appdata\\local\\programs\\python\\python312\\lib\\site-packages (from requests<3,>=2.22.1->qci-client<5) (2024.6.2)\n",
            "Note: you may need to restart the kernel to use updated packages.\n"
          ]
        }
      ],
      "source": [
        "pip install --upgrade \"qci-client<5\""
      ]
    },
    {
      "cell_type": "markdown",
      "metadata": {},
      "source": [
        "Call the Run() file to Optimize the Portfolio"
      ]
    },
    {
      "cell_type": "code",
      "execution_count": 1,
      "metadata": {},
      "outputs": [
        {
          "name": "stdout",
          "output_type": "stream",
          "text": [
            "Processing curr date: 2022-01-13 00:00:00\n"
          ]
        },
        {
          "name": "stderr",
          "output_type": "stream",
          "text": [
            "c:\\Users\\Chitra Vadlamani\\Desktop\\githubrepo\\portfolio_optimization\\get_stock_returns.py:13: FutureWarning: DataFrame.fillna with 'method' is deprecated and will raise in a future version. Use obj.ffill() or obj.bfill() instead.\n",
            "  stock_df = stock_df.fillna(method=\"ffill\").fillna(method=\"bfill\")\n",
            "c:\\Users\\Chitra Vadlamani\\Desktop\\githubrepo\\portfolio_optimization\\get_stock_returns.py:13: FutureWarning: DataFrame.fillna with 'method' is deprecated and will raise in a future version. Use obj.ffill() or obj.bfill() instead.\n",
            "  stock_df = stock_df.fillna(method=\"ffill\").fillna(method=\"bfill\")\n",
            "c:\\Users\\Chitra Vadlamani\\Desktop\\githubrepo\\portfolio_optimization\\get_stock_returns.py:13: FutureWarning: DataFrame.fillna with 'method' is deprecated and will raise in a future version. Use obj.ffill() or obj.bfill() instead.\n",
            "  stock_df = stock_df.fillna(method=\"ffill\").fillna(method=\"bfill\")\n",
            "c:\\Users\\Chitra Vadlamani\\Desktop\\githubrepo\\portfolio_optimization\\get_stock_returns.py:13: FutureWarning: DataFrame.fillna with 'method' is deprecated and will raise in a future version. Use obj.ffill() or obj.bfill() instead.\n",
            "  stock_df = stock_df.fillna(method=\"ffill\").fillna(method=\"bfill\")\n",
            "c:\\Users\\Chitra Vadlamani\\Desktop\\githubrepo\\portfolio_optimization\\get_stock_returns.py:13: FutureWarning: DataFrame.fillna with 'method' is deprecated and will raise in a future version. Use obj.ffill() or obj.bfill() instead.\n",
            "  stock_df = stock_df.fillna(method=\"ffill\").fillna(method=\"bfill\")\n",
            "c:\\Users\\Chitra Vadlamani\\Desktop\\githubrepo\\portfolio_optimization\\get_stock_returns.py:26: FutureWarning: DataFrame.fillna with 'method' is deprecated and will raise in a future version. Use obj.ffill() or obj.bfill() instead.\n",
            "  return_df = return_df.fillna(method=\"ffill\").fillna(method=\"bfill\")\n",
            "c:\\Users\\Chitra Vadlamani\\Desktop\\githubrepo\\portfolio_optimization\\run.py:24: FutureWarning: DataFrame.fillna with 'method' is deprecated and will raise in a future version. Use obj.ffill() or obj.bfill() instead.\n",
            "  in_sample_returns_df = in_sample_returns_df.fillna(method=\"ffill\").fillna(0)\n"
          ]
        },
        {
          "name": "stdout",
          "output_type": "stream",
          "text": [
            "2024-06-17 15:53:04 - Dirac allocation balance = 0 s (unmetered)\n",
            "2024-06-17 15:53:04 - Job submitted: job_id='66709420a3e6a645a5c4e766'\n",
            "2024-06-17 15:53:04 - QUEUED\n",
            "2024-06-17 15:53:06 - RUNNING\n",
            "2024-06-17 15:54:11 - COMPLETED\n",
            "2024-06-17 15:54:14 - Dirac allocation balance = 0 s (unmetered)\n",
            "In optimize_portfolio; done with checking constraints; 71.82 seconds!\n",
            "Optimized portfolio contains the following stocks:\n"
          ]
        },
        {
          "data": {
            "text/html": [
              "<table border=\"1\" class=\"dataframe\">\n",
              "  <thead>\n",
              "    <tr style=\"text-align: right;\">\n",
              "      <th></th>\n",
              "      <th>Stock</th>\n",
              "    </tr>\n",
              "  </thead>\n",
              "  <tbody>\n",
              "    <tr>\n",
              "      <th>1</th>\n",
              "      <td>[AMZN, MSFT, AAPL]</td>\n",
              "    </tr>\n",
              "  </tbody>\n",
              "</table>"
            ],
            "text/plain": [
              "<IPython.core.display.HTML object>"
            ]
          },
          "metadata": {},
          "output_type": "display_data"
        }
      ],
      "source": [
        "from run import run\n",
        "from parameters import OUT_OF_SAMPLE_DAYS, min_date, max_date,SEL_STOCK_OUT_FILE\n",
        "from parameters import min_date as current_date\n",
        "\n",
        "selected_stocks_df = run(current_date)"
      ]
    }
  ],
  "metadata": {
    "colab": {
      "provenance": []
    },
    "kernelspec": {
      "display_name": "Python 3",
      "name": "python3"
    },
    "language_info": {
      "codemirror_mode": {
        "name": "ipython",
        "version": 3
      },
      "file_extension": ".py",
      "mimetype": "text/x-python",
      "name": "python",
      "nbconvert_exporter": "python",
      "pygments_lexer": "ipython3",
      "version": "3.12.4"
    }
  },
  "nbformat": 4,
  "nbformat_minor": 0
}
