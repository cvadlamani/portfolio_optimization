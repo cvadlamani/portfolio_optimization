{
  "cells": [
    {
      "cell_type": "markdown",
      "metadata": {
        "id": "m49EtpeL69Xz"
      },
      "source": [
        "# Portfolio Optimizaiton Using Dirac"
      ]
    },
    {
      "cell_type": "markdown",
      "metadata": {},
      "source": [
        "Install the following dependencies:"
      ]
    },
    {
      "cell_type": "code",
      "execution_count": 1,
      "metadata": {
        "id": "AcbdE7B9LJ9t"
      },
      "outputs": [
        {
          "name": "stdout",
          "output_type": "stream",
          "text": [
            "Requirement already satisfied: pandas in c:\\users\\chitra vadlamani\\appdata\\local\\programs\\python\\python312\\lib\\site-packages (2.2.2)\n",
            "Requirement already satisfied: numpy>=1.26.0 in c:\\users\\chitra vadlamani\\appdata\\local\\programs\\python\\python312\\lib\\site-packages (from pandas) (1.26.4)\n",
            "Requirement already satisfied: python-dateutil>=2.8.2 in c:\\users\\chitra vadlamani\\appdata\\roaming\\python\\python312\\site-packages (from pandas) (2.9.0.post0)\n",
            "Requirement already satisfied: pytz>=2020.1 in c:\\users\\chitra vadlamani\\appdata\\local\\programs\\python\\python312\\lib\\site-packages (from pandas) (2024.1)\n",
            "Requirement already satisfied: tzdata>=2022.7 in c:\\users\\chitra vadlamani\\appdata\\local\\programs\\python\\python312\\lib\\site-packages (from pandas) (2024.1)\n",
            "Requirement already satisfied: six>=1.5 in c:\\users\\chitra vadlamani\\appdata\\roaming\\python\\python312\\site-packages (from python-dateutil>=2.8.2->pandas) (1.16.0)\n",
            "Note: you may need to restart the kernel to use updated packages.\n"
          ]
        }
      ],
      "source": [
        "pip install pandas"
      ]
    },
    {
      "cell_type": "code",
      "execution_count": 2,
      "metadata": {},
      "outputs": [
        {
          "name": "stdout",
          "output_type": "stream",
          "text": [
            "Requirement already satisfied: IPython in c:\\users\\chitra vadlamani\\appdata\\roaming\\python\\python312\\site-packages (8.25.0)\n",
            "Requirement already satisfied: decorator in c:\\users\\chitra vadlamani\\appdata\\roaming\\python\\python312\\site-packages (from IPython) (5.1.1)\n",
            "Requirement already satisfied: jedi>=0.16 in c:\\users\\chitra vadlamani\\appdata\\roaming\\python\\python312\\site-packages (from IPython) (0.19.1)\n",
            "Requirement already satisfied: matplotlib-inline in c:\\users\\chitra vadlamani\\appdata\\roaming\\python\\python312\\site-packages (from IPython) (0.1.7)\n",
            "Requirement already satisfied: prompt-toolkit<3.1.0,>=3.0.41 in c:\\users\\chitra vadlamani\\appdata\\roaming\\python\\python312\\site-packages (from IPython) (3.0.47)\n",
            "Requirement already satisfied: pygments>=2.4.0 in c:\\users\\chitra vadlamani\\appdata\\roaming\\python\\python312\\site-packages (from IPython) (2.18.0)\n",
            "Requirement already satisfied: stack-data in c:\\users\\chitra vadlamani\\appdata\\roaming\\python\\python312\\site-packages (from IPython) (0.6.3)\n",
            "Requirement already satisfied: traitlets>=5.13.0 in c:\\users\\chitra vadlamani\\appdata\\roaming\\python\\python312\\site-packages (from IPython) (5.14.3)\n",
            "Requirement already satisfied: colorama in c:\\users\\chitra vadlamani\\appdata\\roaming\\python\\python312\\site-packages (from IPython) (0.4.6)\n",
            "Requirement already satisfied: parso<0.9.0,>=0.8.3 in c:\\users\\chitra vadlamani\\appdata\\roaming\\python\\python312\\site-packages (from jedi>=0.16->IPython) (0.8.4)\n",
            "Requirement already satisfied: wcwidth in c:\\users\\chitra vadlamani\\appdata\\roaming\\python\\python312\\site-packages (from prompt-toolkit<3.1.0,>=3.0.41->IPython) (0.2.13)\n",
            "Requirement already satisfied: executing>=1.2.0 in c:\\users\\chitra vadlamani\\appdata\\roaming\\python\\python312\\site-packages (from stack-data->IPython) (2.0.1)\n",
            "Requirement already satisfied: asttokens>=2.1.0 in c:\\users\\chitra vadlamani\\appdata\\roaming\\python\\python312\\site-packages (from stack-data->IPython) (2.4.1)\n",
            "Requirement already satisfied: pure-eval in c:\\users\\chitra vadlamani\\appdata\\roaming\\python\\python312\\site-packages (from stack-data->IPython) (0.2.2)\n",
            "Requirement already satisfied: six>=1.12.0 in c:\\users\\chitra vadlamani\\appdata\\roaming\\python\\python312\\site-packages (from asttokens>=2.1.0->stack-data->IPython) (1.16.0)\n",
            "Note: you may need to restart the kernel to use updated packages.\n"
          ]
        }
      ],
      "source": [
        "pip install IPython"
      ]
    },
    {
      "cell_type": "code",
      "execution_count": 3,
      "metadata": {},
      "outputs": [
        {
          "name": "stdout",
          "output_type": "stream",
          "text": [
            "Requirement already satisfied: qci-client<5 in c:\\users\\chitra vadlamani\\appdata\\local\\programs\\python\\python312\\lib\\site-packages (4.0.0)\n",
            "Requirement already satisfied: requests<3,>=2.22.1 in c:\\users\\chitra vadlamani\\appdata\\local\\programs\\python\\python312\\lib\\site-packages (from qci-client<5) (2.32.3)\n",
            "Requirement already satisfied: requests-futures<2,>=1.0.0 in c:\\users\\chitra vadlamani\\appdata\\local\\programs\\python\\python312\\lib\\site-packages (from qci-client<5) (1.0.1)\n",
            "Requirement already satisfied: networkx<3,>=2.6.3 in c:\\users\\chitra vadlamani\\appdata\\local\\programs\\python\\python312\\lib\\site-packages (from qci-client<5) (2.8.8)\n",
            "Requirement already satisfied: numpy<2,>=1.21.1 in c:\\users\\chitra vadlamani\\appdata\\local\\programs\\python\\python312\\lib\\site-packages (from qci-client<5) (1.26.4)\n",
            "Requirement already satisfied: scipy<2,>=1.7.3 in c:\\users\\chitra vadlamani\\appdata\\local\\programs\\python\\python312\\lib\\site-packages (from qci-client<5) (1.13.1)\n",
            "Requirement already satisfied: charset-normalizer<4,>=2 in c:\\users\\chitra vadlamani\\appdata\\local\\programs\\python\\python312\\lib\\site-packages (from requests<3,>=2.22.1->qci-client<5) (3.3.2)\n",
            "Requirement already satisfied: idna<4,>=2.5 in c:\\users\\chitra vadlamani\\appdata\\local\\programs\\python\\python312\\lib\\site-packages (from requests<3,>=2.22.1->qci-client<5) (3.7)\n",
            "Requirement already satisfied: urllib3<3,>=1.21.1 in c:\\users\\chitra vadlamani\\appdata\\local\\programs\\python\\python312\\lib\\site-packages (from requests<3,>=2.22.1->qci-client<5) (2.2.1)\n",
            "Requirement already satisfied: certifi>=2017.4.17 in c:\\users\\chitra vadlamani\\appdata\\local\\programs\\python\\python312\\lib\\site-packages (from requests<3,>=2.22.1->qci-client<5) (2024.6.2)\n",
            "Note: you may need to restart the kernel to use updated packages.\n"
          ]
        }
      ],
      "source": [
        "pip install --upgrade \"qci-client<5\""
      ]
    },
    {
      "cell_type": "markdown",
      "metadata": {},
      "source": [
        "Call the Run() file to Optimize the Portfolio"
      ]
    },
    {
      "cell_type": "code",
      "execution_count": 1,
      "metadata": {},
      "outputs": [
        {
          "name": "stdout",
          "output_type": "stream",
          "text": [
            "Processing curr date: 2022-01-13 00:00:00\n"
          ]
        },
        {
          "name": "stderr",
          "output_type": "stream",
          "text": [
            "c:\\Users\\Chitra Vadlamani\\Desktop\\githubrepo\\portfolio_optimization\\get_stock_returns.py:13: FutureWarning: DataFrame.fillna with 'method' is deprecated and will raise in a future version. Use obj.ffill() or obj.bfill() instead.\n",
            "  stock_df = stock_df.fillna(method=\"ffill\").fillna(method=\"bfill\")\n",
            "c:\\Users\\Chitra Vadlamani\\Desktop\\githubrepo\\portfolio_optimization\\get_stock_returns.py:13: FutureWarning: DataFrame.fillna with 'method' is deprecated and will raise in a future version. Use obj.ffill() or obj.bfill() instead.\n",
            "  stock_df = stock_df.fillna(method=\"ffill\").fillna(method=\"bfill\")\n",
            "c:\\Users\\Chitra Vadlamani\\Desktop\\githubrepo\\portfolio_optimization\\get_stock_returns.py:13: FutureWarning: DataFrame.fillna with 'method' is deprecated and will raise in a future version. Use obj.ffill() or obj.bfill() instead.\n",
            "  stock_df = stock_df.fillna(method=\"ffill\").fillna(method=\"bfill\")\n",
            "c:\\Users\\Chitra Vadlamani\\Desktop\\githubrepo\\portfolio_optimization\\get_stock_returns.py:13: FutureWarning: DataFrame.fillna with 'method' is deprecated and will raise in a future version. Use obj.ffill() or obj.bfill() instead.\n",
            "  stock_df = stock_df.fillna(method=\"ffill\").fillna(method=\"bfill\")\n",
            "c:\\Users\\Chitra Vadlamani\\Desktop\\githubrepo\\portfolio_optimization\\get_stock_returns.py:13: FutureWarning: DataFrame.fillna with 'method' is deprecated and will raise in a future version. Use obj.ffill() or obj.bfill() instead.\n",
            "  stock_df = stock_df.fillna(method=\"ffill\").fillna(method=\"bfill\")\n",
            "c:\\Users\\Chitra Vadlamani\\Desktop\\githubrepo\\portfolio_optimization\\get_stock_returns.py:26: FutureWarning: DataFrame.fillna with 'method' is deprecated and will raise in a future version. Use obj.ffill() or obj.bfill() instead.\n",
            "  return_df = return_df.fillna(method=\"ffill\").fillna(method=\"bfill\")\n",
            "c:\\Users\\Chitra Vadlamani\\Desktop\\githubrepo\\portfolio_optimization\\run.py:24: FutureWarning: DataFrame.fillna with 'method' is deprecated and will raise in a future version. Use obj.ffill() or obj.bfill() instead.\n",
            "  in_sample_returns_df = in_sample_returns_df.fillna(method=\"ffill\").fillna(0)\n"
          ]
        },
        {
          "ename": "ValueError",
          "evalue": "'Portfolio Optimization' is not a valid JobType",
          "output_type": "error",
          "traceback": [
            "\u001b[1;31m---------------------------------------------------------------------------\u001b[0m",
            "\u001b[1;31mValueError\u001b[0m                                Traceback (most recent call last)",
            "Cell \u001b[1;32mIn[1], line 7\u001b[0m\n\u001b[0;32m      4\u001b[0m \u001b[38;5;28;01mfrom\u001b[39;00m \u001b[38;5;21;01mparameters\u001b[39;00m \u001b[38;5;28;01mimport\u001b[39;00m OUT_OF_SAMPLE_DAYS, min_date, max_date,SEL_STOCK_OUT_FILE\n\u001b[0;32m      5\u001b[0m \u001b[38;5;28;01mfrom\u001b[39;00m \u001b[38;5;21;01mparameters\u001b[39;00m \u001b[38;5;28;01mimport\u001b[39;00m min_date \u001b[38;5;28;01mas\u001b[39;00m current_date\n\u001b[1;32m----> 7\u001b[0m selected_stocks_df \u001b[38;5;241m=\u001b[39m \u001b[43mrun\u001b[49m\u001b[43m(\u001b[49m\u001b[43mcurrent_date\u001b[49m\u001b[43m)\u001b[49m\n",
            "File \u001b[1;32mc:\\Users\\Chitra Vadlamani\\Desktop\\githubrepo\\portfolio_optimization\\run.py:28\u001b[0m, in \u001b[0;36mrun\u001b[1;34m(current_date)\u001b[0m\n\u001b[0;32m     24\u001b[0m in_sample_returns_df \u001b[38;5;241m=\u001b[39m in_sample_returns_df\u001b[38;5;241m.\u001b[39mfillna(method\u001b[38;5;241m=\u001b[39m\u001b[38;5;124m\"\u001b[39m\u001b[38;5;124mffill\u001b[39m\u001b[38;5;124m\"\u001b[39m)\u001b[38;5;241m.\u001b[39mfillna(\u001b[38;5;241m0\u001b[39m)\n\u001b[0;32m     26\u001b[0m Hamiltonian_matrix \u001b[38;5;241m=\u001b[39m get_hamiltonian(in_sample_returns_df, stocks, in_sample_start_date, in_sample_end_date )\n\u001b[1;32m---> 28\u001b[0m selected_stocks \u001b[38;5;241m=\u001b[39m \u001b[43moptimize_portfolio\u001b[49m\u001b[43m(\u001b[49m\u001b[43mHamiltonian_matrix\u001b[49m\u001b[43m,\u001b[49m\u001b[43m \u001b[49m\u001b[43mstocks\u001b[49m\u001b[43m)\u001b[49m\n\u001b[0;32m     31\u001b[0m selected_stocks_df \u001b[38;5;241m=\u001b[39m pd\u001b[38;5;241m.\u001b[39mDataFrame()\n\u001b[0;32m     32\u001b[0m selected_stocks_df[\u001b[38;5;124m\"\u001b[39m\u001b[38;5;124mDate\u001b[39m\u001b[38;5;124m\"\u001b[39m] \u001b[38;5;241m=\u001b[39m [current_date] \u001b[38;5;241m*\u001b[39m \u001b[38;5;28mlen\u001b[39m(selected_stocks)\n",
            "File \u001b[1;32mc:\\Users\\Chitra Vadlamani\\Desktop\\githubrepo\\portfolio_optimization\\optimize_portfolio.py:66\u001b[0m, in \u001b[0;36moptimize_portfolio\u001b[1;34m(Hamiltonian_matrix, stocks)\u001b[0m\n\u001b[0;32m     58\u001b[0m constraint_file_id \u001b[38;5;241m=\u001b[39m response_json[\u001b[38;5;124m\"\u001b[39m\u001b[38;5;124mfile_id\u001b[39m\u001b[38;5;124m\"\u001b[39m]\n\u001b[0;32m     60\u001b[0m job_params \u001b[38;5;241m=\u001b[39m {\n\u001b[0;32m     61\u001b[0m     \u001b[38;5;124m\"\u001b[39m\u001b[38;5;124mdevice_type\u001b[39m\u001b[38;5;124m\"\u001b[39m: \u001b[38;5;124m\"\u001b[39m\u001b[38;5;124mdirac-1\u001b[39m\u001b[38;5;124m\"\u001b[39m, \n\u001b[0;32m     62\u001b[0m     \u001b[38;5;124m\"\u001b[39m\u001b[38;5;124malpha\u001b[39m\u001b[38;5;124m\"\u001b[39m: ALPHA, \n\u001b[0;32m     63\u001b[0m     \u001b[38;5;124m\"\u001b[39m\u001b[38;5;124mnum_samples\u001b[39m\u001b[38;5;124m\"\u001b[39m: N_SAMPLES,\n\u001b[0;32m     64\u001b[0m }\n\u001b[1;32m---> 66\u001b[0m job_json \u001b[38;5;241m=\u001b[39m \u001b[43mqci\u001b[49m\u001b[38;5;241;43m.\u001b[39;49m\u001b[43mbuild_job_body\u001b[49m\u001b[43m(\u001b[49m\n\u001b[0;32m     67\u001b[0m \u001b[43m    \u001b[49m\u001b[43mjob_type\u001b[49m\u001b[38;5;241;43m=\u001b[39;49m\u001b[38;5;124;43m\"\u001b[39;49m\u001b[38;5;124;43mPortfolio Optimization\u001b[39;49m\u001b[38;5;124;43m\"\u001b[39;49m\u001b[43m,\u001b[49m\u001b[43m \u001b[49m\n\u001b[0;32m     68\u001b[0m \u001b[43m    \u001b[49m\u001b[43mjob_params\u001b[49m\u001b[38;5;241;43m=\u001b[39;49m\u001b[43mjob_params\u001b[49m\u001b[43m,\u001b[49m\n\u001b[0;32m     69\u001b[0m \u001b[43m    \u001b[49m\u001b[43mconstraints_file_id\u001b[49m\u001b[38;5;241;43m=\u001b[39;49m\u001b[43mconstraint_file_id\u001b[49m\u001b[43m,\u001b[49m\u001b[43m \u001b[49m\n\u001b[0;32m     70\u001b[0m \u001b[43m    \u001b[49m\u001b[43mobjective_file_id\u001b[49m\u001b[38;5;241;43m=\u001b[39;49m\u001b[43mobjective_file_id\u001b[49m\u001b[43m,\u001b[49m\n\u001b[0;32m     71\u001b[0m \u001b[43m    \u001b[49m\u001b[43mjob_name\u001b[49m\u001b[38;5;241;43m=\u001b[39;49m\u001b[38;5;124;43mf\u001b[39;49m\u001b[38;5;124;43m\"\u001b[39;49m\u001b[38;5;124;43mPortfolio Optimization\u001b[39;49m\u001b[38;5;124;43m\"\u001b[39;49m\u001b[43m,\u001b[49m\n\u001b[0;32m     72\u001b[0m \u001b[43m    \u001b[49m\u001b[43mjob_tags\u001b[49m\u001b[38;5;241;43m=\u001b[39;49m\u001b[43m[\u001b[49m\u001b[38;5;124;43m\"\u001b[39;49m\u001b[38;5;124;43mportfolio stock optimization\u001b[39;49m\u001b[38;5;124;43m\"\u001b[39;49m\u001b[43m]\u001b[49m\u001b[43m,\u001b[49m\n\u001b[0;32m     73\u001b[0m \u001b[43m\u001b[49m\u001b[43m)\u001b[49m\n\u001b[0;32m     74\u001b[0m \u001b[38;5;28mprint\u001b[39m(job_json)\n\u001b[0;32m     76\u001b[0m job_response_json \u001b[38;5;241m=\u001b[39m qci\u001b[38;5;241m.\u001b[39mprocess_job(\n\u001b[0;32m     77\u001b[0m     job_body\u001b[38;5;241m=\u001b[39mjob_json\n\u001b[0;32m     78\u001b[0m )\n",
            "File \u001b[1;32mc:\\Users\\Chitra Vadlamani\\AppData\\Local\\Programs\\Python\\Python312\\Lib\\site-packages\\qci_client\\optimization\\client.py:424\u001b[0m, in \u001b[0;36mOptimizationClient.build_job_body\u001b[1;34m(self, job_type, job_params, qubo_file_id, graph_file_id, hamiltonian_file_id, objective_file_id, constraints_file_id, polynomial_file_id, job_name, job_tags)\u001b[0m\n\u001b[0;32m    421\u001b[0m device_config \u001b[38;5;241m=\u001b[39m {}\n\u001b[0;32m    423\u001b[0m \u001b[38;5;66;03m# This works even when job_type is already an enum.JobType.\u001b[39;00m\n\u001b[1;32m--> 424\u001b[0m job_type \u001b[38;5;241m=\u001b[39m \u001b[43menum\u001b[49m\u001b[38;5;241;43m.\u001b[39;49m\u001b[43mJobType\u001b[49m\u001b[43m(\u001b[49m\u001b[43mjob_type\u001b[49m\u001b[43m)\u001b[49m\n\u001b[0;32m    426\u001b[0m device_type_param \u001b[38;5;241m=\u001b[39m job_params\u001b[38;5;241m.\u001b[39mget(\u001b[38;5;124m\"\u001b[39m\u001b[38;5;124mdevice_type\u001b[39m\u001b[38;5;124m\"\u001b[39m)\n\u001b[0;32m    428\u001b[0m \u001b[38;5;28;01mif\u001b[39;00m device_type_param \u001b[38;5;129;01mis\u001b[39;00m \u001b[38;5;28;01mNone\u001b[39;00m:\n",
            "File \u001b[1;32mc:\\Users\\Chitra Vadlamani\\AppData\\Local\\Programs\\Python\\Python312\\Lib\\enum.py:757\u001b[0m, in \u001b[0;36mEnumType.__call__\u001b[1;34m(cls, value, names, module, qualname, type, start, boundary, *values)\u001b[0m\n\u001b[0;32m    755\u001b[0m     \u001b[38;5;28;01mif\u001b[39;00m names \u001b[38;5;129;01mis\u001b[39;00m \u001b[38;5;129;01mnot\u001b[39;00m _not_given:\n\u001b[0;32m    756\u001b[0m         value \u001b[38;5;241m=\u001b[39m (value, names) \u001b[38;5;241m+\u001b[39m values\n\u001b[1;32m--> 757\u001b[0m     \u001b[38;5;28;01mreturn\u001b[39;00m \u001b[38;5;28;43mcls\u001b[39;49m\u001b[38;5;241;43m.\u001b[39;49m\u001b[38;5;21;43m__new__\u001b[39;49m\u001b[43m(\u001b[49m\u001b[38;5;28;43mcls\u001b[39;49m\u001b[43m,\u001b[49m\u001b[43m \u001b[49m\u001b[43mvalue\u001b[49m\u001b[43m)\u001b[49m\n\u001b[0;32m    758\u001b[0m \u001b[38;5;66;03m# otherwise, functional API: we're creating a new Enum type\u001b[39;00m\n\u001b[0;32m    759\u001b[0m \u001b[38;5;28;01mif\u001b[39;00m names \u001b[38;5;129;01mis\u001b[39;00m _not_given \u001b[38;5;129;01mand\u001b[39;00m \u001b[38;5;28mtype\u001b[39m \u001b[38;5;129;01mis\u001b[39;00m \u001b[38;5;28;01mNone\u001b[39;00m:\n\u001b[0;32m    760\u001b[0m     \u001b[38;5;66;03m# no body? no data-type? possibly wrong usage\u001b[39;00m\n",
            "File \u001b[1;32mc:\\Users\\Chitra Vadlamani\\AppData\\Local\\Programs\\Python\\Python312\\Lib\\enum.py:1171\u001b[0m, in \u001b[0;36mEnum.__new__\u001b[1;34m(cls, value)\u001b[0m\n\u001b[0;32m   1169\u001b[0m ve_exc \u001b[38;5;241m=\u001b[39m \u001b[38;5;167;01mValueError\u001b[39;00m(\u001b[38;5;124m\"\u001b[39m\u001b[38;5;132;01m%r\u001b[39;00m\u001b[38;5;124m is not a valid \u001b[39m\u001b[38;5;132;01m%s\u001b[39;00m\u001b[38;5;124m\"\u001b[39m \u001b[38;5;241m%\u001b[39m (value, \u001b[38;5;28mcls\u001b[39m\u001b[38;5;241m.\u001b[39m\u001b[38;5;18m__qualname__\u001b[39m))\n\u001b[0;32m   1170\u001b[0m \u001b[38;5;28;01mif\u001b[39;00m result \u001b[38;5;129;01mis\u001b[39;00m \u001b[38;5;28;01mNone\u001b[39;00m \u001b[38;5;129;01mand\u001b[39;00m exc \u001b[38;5;129;01mis\u001b[39;00m \u001b[38;5;28;01mNone\u001b[39;00m:\n\u001b[1;32m-> 1171\u001b[0m     \u001b[38;5;28;01mraise\u001b[39;00m ve_exc\n\u001b[0;32m   1172\u001b[0m \u001b[38;5;28;01melif\u001b[39;00m exc \u001b[38;5;129;01mis\u001b[39;00m \u001b[38;5;28;01mNone\u001b[39;00m:\n\u001b[0;32m   1173\u001b[0m     exc \u001b[38;5;241m=\u001b[39m \u001b[38;5;167;01mTypeError\u001b[39;00m(\n\u001b[0;32m   1174\u001b[0m             \u001b[38;5;124m'\u001b[39m\u001b[38;5;124merror in \u001b[39m\u001b[38;5;132;01m%s\u001b[39;00m\u001b[38;5;124m._missing_: returned \u001b[39m\u001b[38;5;132;01m%r\u001b[39;00m\u001b[38;5;124m instead of None or a valid member\u001b[39m\u001b[38;5;124m'\u001b[39m\n\u001b[0;32m   1175\u001b[0m             \u001b[38;5;241m%\u001b[39m (\u001b[38;5;28mcls\u001b[39m\u001b[38;5;241m.\u001b[39m\u001b[38;5;18m__name__\u001b[39m, result)\n\u001b[0;32m   1176\u001b[0m             )\n",
            "\u001b[1;31mValueError\u001b[0m: 'Portfolio Optimization' is not a valid JobType"
          ]
        }
      ],
      "source": [
        "from run import run\n",
        "import datetime\n",
        "import os\n",
        "from parameters import OUT_OF_SAMPLE_DAYS, min_date, max_date,SEL_STOCK_OUT_FILE\n",
        "from parameters import min_date as current_date\n",
        "\n",
        "selected_stocks_df = run(current_date)\n",
        "\n"
      ]
    }
  ],
  "metadata": {
    "colab": {
      "provenance": []
    },
    "kernelspec": {
      "display_name": "Python 3",
      "name": "python3"
    },
    "language_info": {
      "codemirror_mode": {
        "name": "ipython",
        "version": 3
      },
      "file_extension": ".py",
      "mimetype": "text/x-python",
      "name": "python",
      "nbconvert_exporter": "python",
      "pygments_lexer": "ipython3",
      "version": "3.12.4"
    }
  },
  "nbformat": 4,
  "nbformat_minor": 0
}
