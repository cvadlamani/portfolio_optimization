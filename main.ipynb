{
  "cells": [
    {
      "cell_type": "markdown",
      "metadata": {},
      "source": [
        "Install the following dependencies:"
      ]
    },
    {
      "cell_type": "code",
      "execution_count": 1,
      "metadata": {
        "id": "AcbdE7B9LJ9t"
      },
      "outputs": [
        {
          "name": "stdout",
          "output_type": "stream",
          "text": [
            "Requirement already satisfied: pandas in c:\\users\\chitra vadlamani\\appdata\\local\\programs\\python\\python312\\lib\\site-packages (2.2.2)Note: you may need to restart the kernel to use updated packages.\n",
            "\n",
            "Requirement already satisfied: numpy>=1.26.0 in c:\\users\\chitra vadlamani\\appdata\\local\\programs\\python\\python312\\lib\\site-packages (from pandas) (1.26.4)\n",
            "Requirement already satisfied: python-dateutil>=2.8.2 in c:\\users\\chitra vadlamani\\appdata\\roaming\\python\\python312\\site-packages (from pandas) (2.9.0.post0)\n",
            "Requirement already satisfied: pytz>=2020.1 in c:\\users\\chitra vadlamani\\appdata\\local\\programs\\python\\python312\\lib\\site-packages (from pandas) (2024.1)\n",
            "Requirement already satisfied: tzdata>=2022.7 in c:\\users\\chitra vadlamani\\appdata\\local\\programs\\python\\python312\\lib\\site-packages (from pandas) (2024.1)\n",
            "Requirement already satisfied: six>=1.5 in c:\\users\\chitra vadlamani\\appdata\\roaming\\python\\python312\\site-packages (from python-dateutil>=2.8.2->pandas) (1.16.0)\n"
          ]
        }
      ],
      "source": [
        "pip install pandas"
      ]
    },
    {
      "cell_type": "code",
      "execution_count": 2,
      "metadata": {},
      "outputs": [
        {
          "name": "stdout",
          "output_type": "stream",
          "text": [
            "Requirement already satisfied: IPython in c:\\users\\chitra vadlamani\\appdata\\roaming\\python\\python312\\site-packages (8.25.0)\n",
            "Requirement already satisfied: decorator in c:\\users\\chitra vadlamani\\appdata\\roaming\\python\\python312\\site-packages (from IPython) (5.1.1)\n",
            "Requirement already satisfied: jedi>=0.16 in c:\\users\\chitra vadlamani\\appdata\\roaming\\python\\python312\\site-packages (from IPython) (0.19.1)\n",
            "Requirement already satisfied: matplotlib-inline in c:\\users\\chitra vadlamani\\appdata\\roaming\\python\\python312\\site-packages (from IPython) (0.1.7)\n",
            "Requirement already satisfied: prompt-toolkit<3.1.0,>=3.0.41 in c:\\users\\chitra vadlamani\\appdata\\roaming\\python\\python312\\site-packages (from IPython) (3.0.47)\n",
            "Requirement already satisfied: pygments>=2.4.0 in c:\\users\\chitra vadlamani\\appdata\\roaming\\python\\python312\\site-packages (from IPython) (2.18.0)\n",
            "Requirement already satisfied: stack-data in c:\\users\\chitra vadlamani\\appdata\\roaming\\python\\python312\\site-packages (from IPython) (0.6.3)\n",
            "Requirement already satisfied: traitlets>=5.13.0 in c:\\users\\chitra vadlamani\\appdata\\roaming\\python\\python312\\site-packages (from IPython) (5.14.3)\n",
            "Requirement already satisfied: colorama in c:\\users\\chitra vadlamani\\appdata\\roaming\\python\\python312\\site-packages (from IPython) (0.4.6)\n",
            "Requirement already satisfied: parso<0.9.0,>=0.8.3 in c:\\users\\chitra vadlamani\\appdata\\roaming\\python\\python312\\site-packages (from jedi>=0.16->IPython) (0.8.4)\n",
            "Requirement already satisfied: wcwidth in c:\\users\\chitra vadlamani\\appdata\\roaming\\python\\python312\\site-packages (from prompt-toolkit<3.1.0,>=3.0.41->IPython) (0.2.13)\n",
            "Requirement already satisfied: executing>=1.2.0 in c:\\users\\chitra vadlamani\\appdata\\roaming\\python\\python312\\site-packages (from stack-data->IPython) (2.0.1)\n",
            "Requirement already satisfied: asttokens>=2.1.0 in c:\\users\\chitra vadlamani\\appdata\\roaming\\python\\python312\\site-packages (from stack-data->IPython) (2.4.1)\n",
            "Requirement already satisfied: pure-eval in c:\\users\\chitra vadlamani\\appdata\\roaming\\python\\python312\\site-packages (from stack-data->IPython) (0.2.2)\n",
            "Requirement already satisfied: six>=1.12.0 in c:\\users\\chitra vadlamani\\appdata\\roaming\\python\\python312\\site-packages (from asttokens>=2.1.0->stack-data->IPython) (1.16.0)\n",
            "Note: you may need to restart the kernel to use updated packages.\n"
          ]
        }
      ],
      "source": [
        "pip install IPython"
      ]
    },
    {
      "cell_type": "code",
      "execution_count": 3,
      "metadata": {},
      "outputs": [
        {
          "name": "stdout",
          "output_type": "stream",
          "text": [
            "Requirement already satisfied: qci-client<5 in c:\\users\\chitra vadlamani\\appdata\\local\\programs\\python\\python312\\lib\\site-packages (4.0.0)\n",
            "Requirement already satisfied: requests<3,>=2.22.1 in c:\\users\\chitra vadlamani\\appdata\\local\\programs\\python\\python312\\lib\\site-packages (from qci-client<5) (2.32.3)\n",
            "Requirement already satisfied: requests-futures<2,>=1.0.0 in c:\\users\\chitra vadlamani\\appdata\\local\\programs\\python\\python312\\lib\\site-packages (from qci-client<5) (1.0.1)\n",
            "Requirement already satisfied: networkx<3,>=2.6.3 in c:\\users\\chitra vadlamani\\appdata\\local\\programs\\python\\python312\\lib\\site-packages (from qci-client<5) (2.8.8)\n",
            "Requirement already satisfied: numpy<2,>=1.21.1 in c:\\users\\chitra vadlamani\\appdata\\local\\programs\\python\\python312\\lib\\site-packages (from qci-client<5) (1.26.4)\n",
            "Requirement already satisfied: scipy<2,>=1.7.3 in c:\\users\\chitra vadlamani\\appdata\\local\\programs\\python\\python312\\lib\\site-packages (from qci-client<5) (1.13.1)\n",
            "Requirement already satisfied: charset-normalizer<4,>=2 in c:\\users\\chitra vadlamani\\appdata\\local\\programs\\python\\python312\\lib\\site-packages (from requests<3,>=2.22.1->qci-client<5) (3.3.2)\n",
            "Requirement already satisfied: idna<4,>=2.5 in c:\\users\\chitra vadlamani\\appdata\\local\\programs\\python\\python312\\lib\\site-packages (from requests<3,>=2.22.1->qci-client<5) (3.7)\n",
            "Requirement already satisfied: urllib3<3,>=1.21.1 in c:\\users\\chitra vadlamani\\appdata\\local\\programs\\python\\python312\\lib\\site-packages (from requests<3,>=2.22.1->qci-client<5) (2.2.1)\n",
            "Requirement already satisfied: certifi>=2017.4.17 in c:\\users\\chitra vadlamani\\appdata\\local\\programs\\python\\python312\\lib\\site-packages (from requests<3,>=2.22.1->qci-client<5) (2024.6.2)\n",
            "Note: you may need to restart the kernel to use updated packages.\n"
          ]
        }
      ],
      "source": [
        "pip install --upgrade \"qci-client<5\""
      ]
    },
    {
      "cell_type": "markdown",
      "metadata": {},
      "source": [
        "Call the Run() method"
      ]
    },
    {
      "cell_type": "code",
      "execution_count": 7,
      "metadata": {},
      "outputs": [
        {
          "name": "stdout",
          "output_type": "stream",
          "text": [
            "current date being processed for portfolio optimization: 2022-01-13 00:00:00\n"
          ]
        },
        {
          "name": "stderr",
          "output_type": "stream",
          "text": [
            "c:\\Users\\Chitra Vadlamani\\Desktop\\githubrepo\\portfolio_optimization\\get_stock_returns.py:15: FutureWarning: DataFrame.fillna with 'method' is deprecated and will raise in a future version. Use obj.ffill() or obj.bfill() instead.\n",
            "  stock_df = stock_df.fillna(method=\"ffill\").fillna(method=\"bfill\")\n",
            "c:\\Users\\Chitra Vadlamani\\Desktop\\githubrepo\\portfolio_optimization\\get_stock_returns.py:15: FutureWarning: DataFrame.fillna with 'method' is deprecated and will raise in a future version. Use obj.ffill() or obj.bfill() instead.\n",
            "  stock_df = stock_df.fillna(method=\"ffill\").fillna(method=\"bfill\")\n",
            "c:\\Users\\Chitra Vadlamani\\Desktop\\githubrepo\\portfolio_optimization\\get_stock_returns.py:15: FutureWarning: DataFrame.fillna with 'method' is deprecated and will raise in a future version. Use obj.ffill() or obj.bfill() instead.\n",
            "  stock_df = stock_df.fillna(method=\"ffill\").fillna(method=\"bfill\")\n",
            "c:\\Users\\Chitra Vadlamani\\Desktop\\githubrepo\\portfolio_optimization\\get_stock_returns.py:15: FutureWarning: DataFrame.fillna with 'method' is deprecated and will raise in a future version. Use obj.ffill() or obj.bfill() instead.\n",
            "  stock_df = stock_df.fillna(method=\"ffill\").fillna(method=\"bfill\")\n",
            "c:\\Users\\Chitra Vadlamani\\Desktop\\githubrepo\\portfolio_optimization\\get_stock_returns.py:15: FutureWarning: DataFrame.fillna with 'method' is deprecated and will raise in a future version. Use obj.ffill() or obj.bfill() instead.\n",
            "  stock_df = stock_df.fillna(method=\"ffill\").fillna(method=\"bfill\")\n",
            "c:\\Users\\Chitra Vadlamani\\Desktop\\githubrepo\\portfolio_optimization\\get_stock_returns.py:28: FutureWarning: DataFrame.fillna with 'method' is deprecated and will raise in a future version. Use obj.ffill() or obj.bfill() instead.\n",
            "  return_df = return_df.fillna(method=\"ffill\").fillna(method=\"bfill\")\n",
            "c:\\Users\\Chitra Vadlamani\\Desktop\\githubrepo\\portfolio_optimization\\get_stock_returns.py:15: FutureWarning: DataFrame.fillna with 'method' is deprecated and will raise in a future version. Use obj.ffill() or obj.bfill() instead.\n",
            "  stock_df = stock_df.fillna(method=\"ffill\").fillna(method=\"bfill\")\n",
            "c:\\Users\\Chitra Vadlamani\\Desktop\\githubrepo\\portfolio_optimization\\get_stock_returns.py:15: FutureWarning: DataFrame.fillna with 'method' is deprecated and will raise in a future version. Use obj.ffill() or obj.bfill() instead.\n",
            "  stock_df = stock_df.fillna(method=\"ffill\").fillna(method=\"bfill\")\n",
            "c:\\Users\\Chitra Vadlamani\\Desktop\\githubrepo\\portfolio_optimization\\get_stock_returns.py:15: FutureWarning: DataFrame.fillna with 'method' is deprecated and will raise in a future version. Use obj.ffill() or obj.bfill() instead.\n",
            "  stock_df = stock_df.fillna(method=\"ffill\").fillna(method=\"bfill\")\n",
            "c:\\Users\\Chitra Vadlamani\\Desktop\\githubrepo\\portfolio_optimization\\get_stock_returns.py:15: FutureWarning: DataFrame.fillna with 'method' is deprecated and will raise in a future version. Use obj.ffill() or obj.bfill() instead.\n",
            "  stock_df = stock_df.fillna(method=\"ffill\").fillna(method=\"bfill\")\n",
            "c:\\Users\\Chitra Vadlamani\\Desktop\\githubrepo\\portfolio_optimization\\get_stock_returns.py:15: FutureWarning: DataFrame.fillna with 'method' is deprecated and will raise in a future version. Use obj.ffill() or obj.bfill() instead.\n",
            "  stock_df = stock_df.fillna(method=\"ffill\").fillna(method=\"bfill\")\n",
            "c:\\Users\\Chitra Vadlamani\\Desktop\\githubrepo\\portfolio_optimization\\get_stock_returns.py:28: FutureWarning: DataFrame.fillna with 'method' is deprecated and will raise in a future version. Use obj.ffill() or obj.bfill() instead.\n",
            "  return_df = return_df.fillna(method=\"ffill\").fillna(method=\"bfill\")\n",
            "c:\\Users\\Chitra Vadlamani\\Desktop\\githubrepo\\portfolio_optimization\\run.py:41: FutureWarning: DataFrame.fillna with 'method' is deprecated and will raise in a future version. Use obj.ffill() or obj.bfill() instead.\n",
            "  in_sample_returns_df = in_sample_returns_df.fillna(method=\"ffill\").fillna(0)\n",
            "c:\\Users\\Chitra Vadlamani\\Desktop\\githubrepo\\portfolio_optimization\\run.py:44: FutureWarning: DataFrame.fillna with 'method' is deprecated and will raise in a future version. Use obj.ffill() or obj.bfill() instead.\n",
            "  out_of_sample_returns_df = out_of_sample_returns_df.fillna(method=\"ffill\").fillna(0)\n"
          ]
        },
        {
          "name": "stdout",
          "output_type": "stream",
          "text": [
            "{'job_submission': {'problem_config': {'quadratic_linearly_constrained_binary_optimization': {'constraints_file_id': '6670674f98263204a365db67', 'objective_file_id': '6670674e98263204a365db65', 'alpha': 1.0}}, 'device_config': {'dirac-1': {'num_samples': 5}}, 'job_name': 'tutorial_eqc1', 'job_tags': ['tutorial_eqc1']}}\n",
            "2024-06-17 12:41:51 - Dirac allocation balance = 0 s (unmetered)\n",
            "2024-06-17 12:41:51 - Job submitted: job_id='6670674fa3e6a645a5c4e745'\n",
            "2024-06-17 12:41:51 - QUEUED\n",
            "2024-06-17 12:41:53 - RUNNING\n",
            "2024-06-17 12:42:58 - COMPLETED\n",
            "2024-06-17 12:43:01 - Dirac allocation balance = 0 s (unmetered)\n",
            "{'job_info': {'job_id': '6670674fa3e6a645a5c4e745', 'job_submission': {'job_name': 'tutorial_eqc1', 'job_tags': ['tutorial_eqc1'], 'problem_config': {'quadratic_linearly_constrained_binary_optimization': {'constraints_file_id': '6670674f98263204a365db67', 'objective_file_id': '6670674e98263204a365db65', 'alpha': 1, 'atol': 1e-10}}, 'device_config': {'dirac-1': {'num_samples': 5}}}, 'job_status': {'submitted_at_rfc3339nano': '2024-06-17T16:41:51.506Z', 'queued_at_rfc3339nano': '2024-06-17T16:41:51.506Z', 'running_at_rfc3339nano': '2024-06-17T16:41:52.134Z', 'completed_at_rfc3339nano': '2024-06-17T16:42:56.624Z'}, 'job_result': {'file_id': '6670679098263204a365db69', 'device_usage_s': 64}}, 'status': 'COMPLETED', 'results': {'counts': [5], 'energies': [-8.993657729952648], 'feasibilities': [True], 'objective_values': [0.0063417898174550425], 'solutions': [[1, 1, 0, 0, 1]]}}\n",
            "In optimize_portfolio; done with checking constraints; 71.97 seconds!\n"
          ]
        }
      ],
      "source": [
        "from run import run\n",
        "import datetime\n",
        "import os\n",
        "from parameters import OUT_OF_SAMPLE_DAYS, min_date, max_date,SEL_STOCK_OUT_FILE\n",
        "\n",
        "curr_date = min_date\n",
        "\n",
        "tmp_sel_stock_df = run(curr_date)\n",
        "\n",
        "if os.path.exists(SEL_STOCK_OUT_FILE):\n",
        "    tmp_sel_stock_df.to_csv(\n",
        "        SEL_STOCK_OUT_FILE, index=False, mode=\"a\", header=False,\n",
        "    )\n",
        "else:\n",
        "    tmp_sel_stock_df.to_csv(\n",
        "        SEL_STOCK_OUT_FILE, index=False,\n",
        "    )\n",
        "\n",
        "\n"
      ]
    },
    {
      "cell_type": "markdown",
      "metadata": {},
      "source": [
        "Run the following to display optimized portfolio:"
      ]
    },
    {
      "cell_type": "code",
      "execution_count": 5,
      "metadata": {},
      "outputs": [
        {
          "ename": "KeyError",
          "evalue": "\"None of [Index(['Stock'], dtype='object')] are in the [columns]\"",
          "output_type": "error",
          "traceback": [
            "\u001b[1;31m---------------------------------------------------------------------------\u001b[0m",
            "\u001b[1;31mKeyError\u001b[0m                                  Traceback (most recent call last)",
            "Cell \u001b[1;32mIn[5], line 2\u001b[0m\n\u001b[0;32m      1\u001b[0m \u001b[38;5;28;01mfrom\u001b[39;00m \u001b[38;5;21;01mIPython\u001b[39;00m\u001b[38;5;21;01m.\u001b[39;00m\u001b[38;5;21;01mdisplay\u001b[39;00m \u001b[38;5;28;01mimport\u001b[39;00m display, HTML\n\u001b[1;32m----> 2\u001b[0m display(HTML(\u001b[43mtmp_sel_stock_df\u001b[49m\u001b[43m[\u001b[49m\u001b[43m[\u001b[49m\u001b[38;5;124;43m\"\u001b[39;49m\u001b[38;5;124;43mStock\u001b[39;49m\u001b[38;5;124;43m\"\u001b[39;49m\u001b[43m]\u001b[49m\u001b[43m]\u001b[49m\u001b[38;5;241m.\u001b[39mtail(\u001b[38;5;241m3\u001b[39m)\u001b[38;5;241m.\u001b[39mto_html()))\n",
            "File \u001b[1;32mc:\\Users\\Chitra Vadlamani\\AppData\\Local\\Programs\\Python\\Python312\\Lib\\site-packages\\pandas\\core\\frame.py:4108\u001b[0m, in \u001b[0;36mDataFrame.__getitem__\u001b[1;34m(self, key)\u001b[0m\n\u001b[0;32m   4106\u001b[0m     \u001b[38;5;28;01mif\u001b[39;00m is_iterator(key):\n\u001b[0;32m   4107\u001b[0m         key \u001b[38;5;241m=\u001b[39m \u001b[38;5;28mlist\u001b[39m(key)\n\u001b[1;32m-> 4108\u001b[0m     indexer \u001b[38;5;241m=\u001b[39m \u001b[38;5;28;43mself\u001b[39;49m\u001b[38;5;241;43m.\u001b[39;49m\u001b[43mcolumns\u001b[49m\u001b[38;5;241;43m.\u001b[39;49m\u001b[43m_get_indexer_strict\u001b[49m\u001b[43m(\u001b[49m\u001b[43mkey\u001b[49m\u001b[43m,\u001b[49m\u001b[43m \u001b[49m\u001b[38;5;124;43m\"\u001b[39;49m\u001b[38;5;124;43mcolumns\u001b[39;49m\u001b[38;5;124;43m\"\u001b[39;49m\u001b[43m)\u001b[49m[\u001b[38;5;241m1\u001b[39m]\n\u001b[0;32m   4110\u001b[0m \u001b[38;5;66;03m# take() does not accept boolean indexers\u001b[39;00m\n\u001b[0;32m   4111\u001b[0m \u001b[38;5;28;01mif\u001b[39;00m \u001b[38;5;28mgetattr\u001b[39m(indexer, \u001b[38;5;124m\"\u001b[39m\u001b[38;5;124mdtype\u001b[39m\u001b[38;5;124m\"\u001b[39m, \u001b[38;5;28;01mNone\u001b[39;00m) \u001b[38;5;241m==\u001b[39m \u001b[38;5;28mbool\u001b[39m:\n",
            "File \u001b[1;32mc:\\Users\\Chitra Vadlamani\\AppData\\Local\\Programs\\Python\\Python312\\Lib\\site-packages\\pandas\\core\\indexes\\base.py:6200\u001b[0m, in \u001b[0;36mIndex._get_indexer_strict\u001b[1;34m(self, key, axis_name)\u001b[0m\n\u001b[0;32m   6197\u001b[0m \u001b[38;5;28;01melse\u001b[39;00m:\n\u001b[0;32m   6198\u001b[0m     keyarr, indexer, new_indexer \u001b[38;5;241m=\u001b[39m \u001b[38;5;28mself\u001b[39m\u001b[38;5;241m.\u001b[39m_reindex_non_unique(keyarr)\n\u001b[1;32m-> 6200\u001b[0m \u001b[38;5;28;43mself\u001b[39;49m\u001b[38;5;241;43m.\u001b[39;49m\u001b[43m_raise_if_missing\u001b[49m\u001b[43m(\u001b[49m\u001b[43mkeyarr\u001b[49m\u001b[43m,\u001b[49m\u001b[43m \u001b[49m\u001b[43mindexer\u001b[49m\u001b[43m,\u001b[49m\u001b[43m \u001b[49m\u001b[43maxis_name\u001b[49m\u001b[43m)\u001b[49m\n\u001b[0;32m   6202\u001b[0m keyarr \u001b[38;5;241m=\u001b[39m \u001b[38;5;28mself\u001b[39m\u001b[38;5;241m.\u001b[39mtake(indexer)\n\u001b[0;32m   6203\u001b[0m \u001b[38;5;28;01mif\u001b[39;00m \u001b[38;5;28misinstance\u001b[39m(key, Index):\n\u001b[0;32m   6204\u001b[0m     \u001b[38;5;66;03m# GH 42790 - Preserve name from an Index\u001b[39;00m\n",
            "File \u001b[1;32mc:\\Users\\Chitra Vadlamani\\AppData\\Local\\Programs\\Python\\Python312\\Lib\\site-packages\\pandas\\core\\indexes\\base.py:6249\u001b[0m, in \u001b[0;36mIndex._raise_if_missing\u001b[1;34m(self, key, indexer, axis_name)\u001b[0m\n\u001b[0;32m   6247\u001b[0m \u001b[38;5;28;01mif\u001b[39;00m nmissing:\n\u001b[0;32m   6248\u001b[0m     \u001b[38;5;28;01mif\u001b[39;00m nmissing \u001b[38;5;241m==\u001b[39m \u001b[38;5;28mlen\u001b[39m(indexer):\n\u001b[1;32m-> 6249\u001b[0m         \u001b[38;5;28;01mraise\u001b[39;00m \u001b[38;5;167;01mKeyError\u001b[39;00m(\u001b[38;5;124mf\u001b[39m\u001b[38;5;124m\"\u001b[39m\u001b[38;5;124mNone of [\u001b[39m\u001b[38;5;132;01m{\u001b[39;00mkey\u001b[38;5;132;01m}\u001b[39;00m\u001b[38;5;124m] are in the [\u001b[39m\u001b[38;5;132;01m{\u001b[39;00maxis_name\u001b[38;5;132;01m}\u001b[39;00m\u001b[38;5;124m]\u001b[39m\u001b[38;5;124m\"\u001b[39m)\n\u001b[0;32m   6251\u001b[0m     not_found \u001b[38;5;241m=\u001b[39m \u001b[38;5;28mlist\u001b[39m(ensure_index(key)[missing_mask\u001b[38;5;241m.\u001b[39mnonzero()[\u001b[38;5;241m0\u001b[39m]]\u001b[38;5;241m.\u001b[39munique())\n\u001b[0;32m   6252\u001b[0m     \u001b[38;5;28;01mraise\u001b[39;00m \u001b[38;5;167;01mKeyError\u001b[39;00m(\u001b[38;5;124mf\u001b[39m\u001b[38;5;124m\"\u001b[39m\u001b[38;5;132;01m{\u001b[39;00mnot_found\u001b[38;5;132;01m}\u001b[39;00m\u001b[38;5;124m not in index\u001b[39m\u001b[38;5;124m\"\u001b[39m)\n",
            "\u001b[1;31mKeyError\u001b[0m: \"None of [Index(['Stock'], dtype='object')] are in the [columns]\""
          ]
        }
      ],
      "source": [
        "from IPython.display import display, HTML\n",
        "display(HTML(tmp_sel_stock_df[[\"Stock\"]].tail(3).to_html()))"
      ]
    }
  ],
  "metadata": {
    "colab": {
      "provenance": []
    },
    "kernelspec": {
      "display_name": "Python 3",
      "name": "python3"
    },
    "language_info": {
      "codemirror_mode": {
        "name": "ipython",
        "version": 3
      },
      "file_extension": ".py",
      "mimetype": "text/x-python",
      "name": "python",
      "nbconvert_exporter": "python",
      "pygments_lexer": "ipython3",
      "version": "3.12.4"
    }
  },
  "nbformat": 4,
  "nbformat_minor": 0
}
