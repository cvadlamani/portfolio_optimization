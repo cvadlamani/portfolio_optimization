{
  "cells": [
    {
      "cell_type": "markdown",
      "metadata": {
        "id": "m49EtpeL69Xz"
      },
      "source": [
        "# Portfolio Optimizaiton Using Dirac"
      ]
    },
    {
      "cell_type": "markdown",
      "metadata": {
        "id": "cZkrMb4f7Dec"
      },
      "source": [
        "## What is portfolio optimization?"
      ]
    },
    {
      "cell_type": "markdown",
      "metadata": {
        "id": "z3xspylI7L0Y"
      },
      "source": [
        "Portfolio optimization is the method of selecting the ideal combination of investments from a broader range, with the goal of maximizing returns for a given level of risk or minimizing risk for a given return. This process includes choosing specific stocks, excluding others, or deciding how to divide investments among various stocks to create a well-rounded portfolio that effectively manages both risk and return. By carefully choosing and weighting these stocks, investors can simplify their investment strategy and achieve better overall performance, aiming for the highest possible returns with the least amount of risk.\n",
        "\n",
        "\n"
      ]
    },
    {
      "cell_type": "markdown",
      "metadata": {
        "id": "YFR7jKTr8F0R"
      },
      "source": [
        "In portfolio optimization, there are two distinct approaches to selecting the best combination of assets from a larger pool:\n",
        "\n",
        "1. **Binary Optimization**\n",
        "2. **Integer Optimization**\n",
        "\n",
        "Both methods involve deciding which assets to include in the portfolio, but they differ in how these decisions are made."
      ]
    },
    {
      "cell_type": "markdown",
      "metadata": {
        "id": "F9FHdczp8dPc"
      },
      "source": [
        "### Binary Optimization Method\n",
        "Binary optimization simplifies investment decisions by selecting specific stocks for a portfolio while excluding others. Each stock is represented by a binary variable $x_i$:\n",
        "\n",
        "- $x_i = 0$  means the stock is not chosen.\n",
        "- $x_i = 1$ means the stock is chosen, where $i$ is the index of the stock.\n",
        "\n",
        "This method helps investors carefully pick and allocate assets to manage risk and achieve desired portfolio outcomes effectively."
      ]
    },
    {
      "cell_type": "markdown",
      "metadata": {
        "id": "9SBYCpx9-EP2"
      },
      "source": [
        "**Example**\n",
        "\n",
        "Imagine you have 5 stocks to choose from, and you want to select 3 of them for your portfolio to maximize returns while minimizing risk.\n",
        "\n",
        "| Company | Symbol|\n",
        "|:--------:|:--------:|\n",
        "|  Microsoft Corp |  MSFT\t   |\n",
        "|  Apple Inc\t   |  AAPL\t   |\n",
        "|  Amazon.com Inc   |  AMZN\t   |\n",
        "|  Alphabet Inc   |  GOOG\t  |\n",
        "|  NVIDIA Corp   | NVDA  |\n",
        "\n",
        "\n",
        "\n",
        "\n",
        "We want to use binary optimization to select the best 3 stocks out of 5 available options for our portfolio.\n",
        "\n",
        " **Define Binary Variables**\n",
        "\n",
        "We define a binary variable $x_i$ for each stock  $i$ :\n",
        "\n",
        "-  $x_1$  for Microsoft Corp (MSFT)\n",
        "-  $x_2$  for Apple Inc (AAPL)\n",
        "-  $x_3$  for Amazon.com Inc (AMZN)\n",
        "-  $x_4$  for Alphabet Inc (GOOG)\n",
        "-  $x_5$  for NVIDIA Corp (NVDA)\n",
        "\n",
        "Each  $x_i$  can take values:\n",
        "- $0$  means the stock is not included in the portfolio.\n",
        "-  $1$  means the stock is included in the portfolio.\n",
        "\n",
        "**Constraint**\n",
        "\n",
        "We need exactly 3 stocks in the portfolio, so the sum of the binary variables should be $3$:\n",
        "\n",
        " $x_1 + x_2 + x_3 + x_4 + x_5 = 3$\n",
        "\n",
        " **Objective**\n",
        "\n",
        "\n",
        "Our goal is to maximize the portfolio returns while minimizing risk\n",
        "\n",
        "\n",
        "\n",
        "\n",
        "\n",
        "\n"
      ]
    },
    {
      "cell_type": "markdown",
      "metadata": {
        "id": "CnKfp6ArGcNV"
      },
      "source": [
        "In our tutorial, we have historical datasets containing stock prices over a period of time. Our goal is to use these datasets to calculate important metrics such as [the rate of return](https://en.wikipedia.org/wiki/Rate_of_return), [expected return](https://en.wikipedia.org/wiki/Expected_return), [variance](https://en.wikipedia.org/wiki/Variance), and [covariance](https://en.wikipedia.org/wiki/Covariance). By calculating these metrics for each stock in our portfolio, we gain insights into their performance and risk characteristics. Expected return helps us gauge potential profitability, variance quantifies the risk associated with individual stocks, and covariance indicates how stocks move relative to each other. These calculations are essential for making informed investment decisions aimed at optimizing returns while managing risk effectively.\n"
      ]
    },
    {
      "cell_type": "markdown",
      "metadata": {
        "id": "FFE6sxtrwQRY"
      },
      "source": [
        "Before we begin, you'll need your unique token to access the QCi Client API and connect to the Dirac device. If you don't have a token yet, you can sign up for our [Free Trial Cloud Access](https://quantumcomputinginc.com/learn/tutorials-and-use-cases/quick-start-on-cloud)). Let's get started!"
      ]
    },
    {
      "cell_type": "markdown",
      "metadata": {},
      "source": [
        "You can download the data sets used in the tutorial here *link data sets*.\n",
        "\n"
      ]
    },
    {
      "cell_type": "markdown",
      "metadata": {},
      "source": [
        "Install the following dependencies:"
      ]
    },
    {
      "cell_type": "code",
      "execution_count": 1,
      "metadata": {
        "id": "AcbdE7B9LJ9t"
      },
      "outputs": [
        {
          "name": "stdout",
          "output_type": "stream",
          "text": [
            "Requirement already satisfied: pandas in c:\\users\\chitra vadlamani\\appdata\\local\\programs\\python\\python312\\lib\\site-packages (2.2.2)\n",
            "Requirement already satisfied: numpy>=1.26.0 in c:\\users\\chitra vadlamani\\appdata\\local\\programs\\python\\python312\\lib\\site-packages (from pandas) (1.26.4)\n",
            "Requirement already satisfied: python-dateutil>=2.8.2 in c:\\users\\chitra vadlamani\\appdata\\roaming\\python\\python312\\site-packages (from pandas) (2.9.0.post0)\n",
            "Requirement already satisfied: pytz>=2020.1 in c:\\users\\chitra vadlamani\\appdata\\local\\programs\\python\\python312\\lib\\site-packages (from pandas) (2024.1)\n",
            "Requirement already satisfied: tzdata>=2022.7 in c:\\users\\chitra vadlamani\\appdata\\local\\programs\\python\\python312\\lib\\site-packages (from pandas) (2024.1)\n",
            "Requirement already satisfied: six>=1.5 in c:\\users\\chitra vadlamani\\appdata\\roaming\\python\\python312\\site-packages (from python-dateutil>=2.8.2->pandas) (1.16.0)\n",
            "Note: you may need to restart the kernel to use updated packages.\n"
          ]
        }
      ],
      "source": [
        "pip install pandas"
      ]
    },
    {
      "cell_type": "code",
      "execution_count": 2,
      "metadata": {},
      "outputs": [
        {
          "name": "stdout",
          "output_type": "stream",
          "text": [
            "Requirement already satisfied: IPython in c:\\users\\chitra vadlamani\\appdata\\roaming\\python\\python312\\site-packages (8.25.0)\n",
            "Requirement already satisfied: decorator in c:\\users\\chitra vadlamani\\appdata\\roaming\\python\\python312\\site-packages (from IPython) (5.1.1)\n",
            "Requirement already satisfied: jedi>=0.16 in c:\\users\\chitra vadlamani\\appdata\\roaming\\python\\python312\\site-packages (from IPython) (0.19.1)\n",
            "Requirement already satisfied: matplotlib-inline in c:\\users\\chitra vadlamani\\appdata\\roaming\\python\\python312\\site-packages (from IPython) (0.1.7)\n",
            "Requirement already satisfied: prompt-toolkit<3.1.0,>=3.0.41 in c:\\users\\chitra vadlamani\\appdata\\roaming\\python\\python312\\site-packages (from IPython) (3.0.47)\n",
            "Requirement already satisfied: pygments>=2.4.0 in c:\\users\\chitra vadlamani\\appdata\\roaming\\python\\python312\\site-packages (from IPython) (2.18.0)\n",
            "Requirement already satisfied: stack-data in c:\\users\\chitra vadlamani\\appdata\\roaming\\python\\python312\\site-packages (from IPython) (0.6.3)\n",
            "Requirement already satisfied: traitlets>=5.13.0 in c:\\users\\chitra vadlamani\\appdata\\roaming\\python\\python312\\site-packages (from IPython) (5.14.3)\n",
            "Requirement already satisfied: colorama in c:\\users\\chitra vadlamani\\appdata\\roaming\\python\\python312\\site-packages (from IPython) (0.4.6)\n",
            "Requirement already satisfied: parso<0.9.0,>=0.8.3 in c:\\users\\chitra vadlamani\\appdata\\roaming\\python\\python312\\site-packages (from jedi>=0.16->IPython) (0.8.4)\n",
            "Requirement already satisfied: wcwidth in c:\\users\\chitra vadlamani\\appdata\\roaming\\python\\python312\\site-packages (from prompt-toolkit<3.1.0,>=3.0.41->IPython) (0.2.13)\n",
            "Requirement already satisfied: executing>=1.2.0 in c:\\users\\chitra vadlamani\\appdata\\roaming\\python\\python312\\site-packages (from stack-data->IPython) (2.0.1)\n",
            "Requirement already satisfied: asttokens>=2.1.0 in c:\\users\\chitra vadlamani\\appdata\\roaming\\python\\python312\\site-packages (from stack-data->IPython) (2.4.1)\n",
            "Requirement already satisfied: pure-eval in c:\\users\\chitra vadlamani\\appdata\\roaming\\python\\python312\\site-packages (from stack-data->IPython) (0.2.2)\n",
            "Requirement already satisfied: six>=1.12.0 in c:\\users\\chitra vadlamani\\appdata\\roaming\\python\\python312\\site-packages (from asttokens>=2.1.0->stack-data->IPython) (1.16.0)\n",
            "Note: you may need to restart the kernel to use updated packages.\n"
          ]
        }
      ],
      "source": [
        "pip install IPython"
      ]
    },
    {
      "cell_type": "code",
      "execution_count": 3,
      "metadata": {},
      "outputs": [
        {
          "name": "stdout",
          "output_type": "stream",
          "text": [
            "Requirement already satisfied: qci-client<5 in c:\\users\\chitra vadlamani\\appdata\\local\\programs\\python\\python312\\lib\\site-packages (4.0.0)\n",
            "Requirement already satisfied: requests<3,>=2.22.1 in c:\\users\\chitra vadlamani\\appdata\\local\\programs\\python\\python312\\lib\\site-packages (from qci-client<5) (2.32.3)\n",
            "Requirement already satisfied: requests-futures<2,>=1.0.0 in c:\\users\\chitra vadlamani\\appdata\\local\\programs\\python\\python312\\lib\\site-packages (from qci-client<5) (1.0.1)\n",
            "Requirement already satisfied: networkx<3,>=2.6.3 in c:\\users\\chitra vadlamani\\appdata\\local\\programs\\python\\python312\\lib\\site-packages (from qci-client<5) (2.8.8)\n",
            "Requirement already satisfied: numpy<2,>=1.21.1 in c:\\users\\chitra vadlamani\\appdata\\local\\programs\\python\\python312\\lib\\site-packages (from qci-client<5) (1.26.4)\n",
            "Requirement already satisfied: scipy<2,>=1.7.3 in c:\\users\\chitra vadlamani\\appdata\\local\\programs\\python\\python312\\lib\\site-packages (from qci-client<5) (1.13.1)\n",
            "Requirement already satisfied: charset-normalizer<4,>=2 in c:\\users\\chitra vadlamani\\appdata\\local\\programs\\python\\python312\\lib\\site-packages (from requests<3,>=2.22.1->qci-client<5) (3.3.2)\n",
            "Requirement already satisfied: idna<4,>=2.5 in c:\\users\\chitra vadlamani\\appdata\\local\\programs\\python\\python312\\lib\\site-packages (from requests<3,>=2.22.1->qci-client<5) (3.7)\n",
            "Requirement already satisfied: urllib3<3,>=1.21.1 in c:\\users\\chitra vadlamani\\appdata\\local\\programs\\python\\python312\\lib\\site-packages (from requests<3,>=2.22.1->qci-client<5) (2.2.1)\n",
            "Requirement already satisfied: certifi>=2017.4.17 in c:\\users\\chitra vadlamani\\appdata\\local\\programs\\python\\python312\\lib\\site-packages (from requests<3,>=2.22.1->qci-client<5) (2024.6.2)\n",
            "Note: you may need to restart the kernel to use updated packages.\n"
          ]
        }
      ],
      "source": [
        "pip install --upgrade \"qci-client<5\""
      ]
    },
    {
      "cell_type": "code",
      "execution_count": 4,
      "metadata": {},
      "outputs": [
        {
          "name": "stdout",
          "output_type": "stream",
          "text": [
            "Fetched MSFT data.\n",
            "Fetched AAPL data.\n",
            "Fetched AMZN data.\n",
            "Fetched GOOG data.\n",
            "Fetched NVDA data.\n",
            "Fetched NDX data.\n",
            "Fetched QQQE data.\n",
            "Processing curr date: 2022-01-13 00:00:00\n"
          ]
        },
        {
          "name": "stderr",
          "output_type": "stream",
          "text": [
            "c:\\Users\\Chitra Vadlamani\\Desktop\\githubrepo\\portfolio_optimization\\get_stock_returns.py:15: FutureWarning: DataFrame.fillna with 'method' is deprecated and will raise in a future version. Use obj.ffill() or obj.bfill() instead.\n",
            "  stock_df = stock_df.fillna(method=\"ffill\").fillna(method=\"bfill\")\n",
            "c:\\Users\\Chitra Vadlamani\\Desktop\\githubrepo\\portfolio_optimization\\get_stock_returns.py:15: FutureWarning: DataFrame.fillna with 'method' is deprecated and will raise in a future version. Use obj.ffill() or obj.bfill() instead.\n",
            "  stock_df = stock_df.fillna(method=\"ffill\").fillna(method=\"bfill\")\n",
            "c:\\Users\\Chitra Vadlamani\\Desktop\\githubrepo\\portfolio_optimization\\get_stock_returns.py:15: FutureWarning: DataFrame.fillna with 'method' is deprecated and will raise in a future version. Use obj.ffill() or obj.bfill() instead.\n",
            "  stock_df = stock_df.fillna(method=\"ffill\").fillna(method=\"bfill\")\n",
            "c:\\Users\\Chitra Vadlamani\\Desktop\\githubrepo\\portfolio_optimization\\get_stock_returns.py:15: FutureWarning: DataFrame.fillna with 'method' is deprecated and will raise in a future version. Use obj.ffill() or obj.bfill() instead.\n",
            "  stock_df = stock_df.fillna(method=\"ffill\").fillna(method=\"bfill\")\n",
            "c:\\Users\\Chitra Vadlamani\\Desktop\\githubrepo\\portfolio_optimization\\get_stock_returns.py:15: FutureWarning: DataFrame.fillna with 'method' is deprecated and will raise in a future version. Use obj.ffill() or obj.bfill() instead.\n",
            "  stock_df = stock_df.fillna(method=\"ffill\").fillna(method=\"bfill\")\n",
            "c:\\Users\\Chitra Vadlamani\\Desktop\\githubrepo\\portfolio_optimization\\get_stock_returns.py:28: FutureWarning: DataFrame.fillna with 'method' is deprecated and will raise in a future version. Use obj.ffill() or obj.bfill() instead.\n",
            "  return_df = return_df.fillna(method=\"ffill\").fillna(method=\"bfill\")\n",
            "c:\\Users\\Chitra Vadlamani\\Desktop\\githubrepo\\portfolio_optimization\\get_stock_returns.py:15: FutureWarning: DataFrame.fillna with 'method' is deprecated and will raise in a future version. Use obj.ffill() or obj.bfill() instead.\n",
            "  stock_df = stock_df.fillna(method=\"ffill\").fillna(method=\"bfill\")\n",
            "c:\\Users\\Chitra Vadlamani\\Desktop\\githubrepo\\portfolio_optimization\\get_stock_returns.py:15: FutureWarning: DataFrame.fillna with 'method' is deprecated and will raise in a future version. Use obj.ffill() or obj.bfill() instead.\n",
            "  stock_df = stock_df.fillna(method=\"ffill\").fillna(method=\"bfill\")\n",
            "c:\\Users\\Chitra Vadlamani\\Desktop\\githubrepo\\portfolio_optimization\\get_stock_returns.py:15: FutureWarning: DataFrame.fillna with 'method' is deprecated and will raise in a future version. Use obj.ffill() or obj.bfill() instead.\n",
            "  stock_df = stock_df.fillna(method=\"ffill\").fillna(method=\"bfill\")\n",
            "c:\\Users\\Chitra Vadlamani\\Desktop\\githubrepo\\portfolio_optimization\\get_stock_returns.py:15: FutureWarning: DataFrame.fillna with 'method' is deprecated and will raise in a future version. Use obj.ffill() or obj.bfill() instead.\n",
            "  stock_df = stock_df.fillna(method=\"ffill\").fillna(method=\"bfill\")\n",
            "c:\\Users\\Chitra Vadlamani\\Desktop\\githubrepo\\portfolio_optimization\\get_stock_returns.py:15: FutureWarning: DataFrame.fillna with 'method' is deprecated and will raise in a future version. Use obj.ffill() or obj.bfill() instead.\n",
            "  stock_df = stock_df.fillna(method=\"ffill\").fillna(method=\"bfill\")\n",
            "c:\\Users\\Chitra Vadlamani\\Desktop\\githubrepo\\portfolio_optimization\\get_stock_returns.py:28: FutureWarning: DataFrame.fillna with 'method' is deprecated and will raise in a future version. Use obj.ffill() or obj.bfill() instead.\n",
            "  return_df = return_df.fillna(method=\"ffill\").fillna(method=\"bfill\")\n",
            "c:\\Users\\Chitra Vadlamani\\Desktop\\githubrepo\\portfolio_optimization\\run.py:27: FutureWarning: DataFrame.fillna with 'method' is deprecated and will raise in a future version. Use obj.ffill() or obj.bfill() instead.\n",
            "  ins_return_df = ins_return_df.fillna(method=\"ffill\").fillna(0)\n",
            "c:\\Users\\Chitra Vadlamani\\Desktop\\githubrepo\\portfolio_optimization\\run.py:30: FutureWarning: DataFrame.fillna with 'method' is deprecated and will raise in a future version. Use obj.ffill() or obj.bfill() instead.\n",
            "  oos_return_df = oos_return_df.fillna(method=\"ffill\").fillna(0)\n"
          ]
        },
        {
          "name": "stdout",
          "output_type": "stream",
          "text": [
            "{'job_submission': {'problem_config': {'quadratic_linearly_constrained_binary_optimization': {'constraints_file_id': '6670683598263204a365db6d', 'objective_file_id': '6670683598263204a365db6b', 'alpha': 1.0}}, 'device_config': {'dirac-1': {'num_samples': 5}}, 'job_name': 'tutorial_eqc1', 'job_tags': ['tutorial_eqc1']}}\n",
            "2024-06-17 12:45:41 - Dirac allocation balance = 0 s (unmetered)\n",
            "2024-06-17 12:45:41 - Job submitted: job_id='66706835a3e6a645a5c4e746'\n",
            "2024-06-17 12:45:41 - QUEUED\n",
            "2024-06-17 12:45:44 - RUNNING\n"
          ]
        }
      ],
      "source": [
        "from run import run\n",
        "from drop_stocks import fetch_data\n",
        "import datetime\n",
        "import os\n",
        "from parameters import OUT_OF_SAMPLE_DAYS, min_date, max_date,SEL_STOCK_OUT_FILE\n",
        "\n",
        "\n",
        "fetch_data()\n",
        "#min_date = pd.to_datetime(\"2022-01-13\")\n",
        "curr_date = min_date\n",
        "while curr_date < max_date:\n",
        "    tmp_sel_stock_df = run(curr_date)\n",
        "\n",
        "    if os.path.exists(SEL_STOCK_OUT_FILE):\n",
        "        tmp_sel_stock_df.to_csv(\n",
        "            SEL_STOCK_OUT_FILE, index=False, mode=\"a\", header=False,\n",
        "        )\n",
        "    else:\n",
        "        tmp_sel_stock_df.to_csv(\n",
        "            SEL_STOCK_OUT_FILE, index=False,\n",
        "        )\n",
        "\n",
        "    curr_date += datetime.timedelta(days=OUT_OF_SAMPLE_DAYS + 1)\n",
        "\n",
        "\n"
      ]
    },
    {
      "cell_type": "code",
      "execution_count": null,
      "metadata": {},
      "outputs": [
        {
          "data": {
            "text/html": [
              "<table border=\"1\" class=\"dataframe\">\n",
              "  <thead>\n",
              "    <tr style=\"text-align: right;\">\n",
              "      <th></th>\n",
              "      <th>Stock</th>\n",
              "    </tr>\n",
              "  </thead>\n",
              "  <tbody>\n",
              "    <tr>\n",
              "      <th>0</th>\n",
              "      <td>GOOG</td>\n",
              "    </tr>\n",
              "    <tr>\n",
              "      <th>1</th>\n",
              "      <td>AAPL</td>\n",
              "    </tr>\n",
              "    <tr>\n",
              "      <th>2</th>\n",
              "      <td>MSFT</td>\n",
              "    </tr>\n",
              "  </tbody>\n",
              "</table>"
            ],
            "text/plain": [
              "<IPython.core.display.HTML object>"
            ]
          },
          "metadata": {},
          "output_type": "display_data"
        }
      ],
      "source": [
        "from IPython.display import display, HTML\n",
        "display(HTML(tmp_sel_stock_df[[\"Stock\"]].tail(3).to_html()))"
      ]
    },
    {
      "cell_type": "code",
      "execution_count": null,
      "metadata": {},
      "outputs": [
        {
          "name": "stdout",
          "output_type": "stream",
          "text": [
            "Fetched MSFT data.\n",
            "Fetched AAPL data.\n",
            "Fetched AMZN data.\n",
            "Fetched GOOG data.\n",
            "Fetched NVDA data.\n",
            "Fetched NDX data.\n",
            "Fetched QQQE data.\n",
            "Processing curr date: 2022-01-13 00:00:00\n"
          ]
        },
        {
          "name": "stderr",
          "output_type": "stream",
          "text": [
            "c:\\Users\\Chitra Vadlamani\\Desktop\\portfolio_optimization\\get_stock_returns.py:15: FutureWarning: DataFrame.fillna with 'method' is deprecated and will raise in a future version. Use obj.ffill() or obj.bfill() instead.\n",
            "  stock_df = stock_df.fillna(method=\"ffill\").fillna(method=\"bfill\")\n",
            "c:\\Users\\Chitra Vadlamani\\Desktop\\portfolio_optimization\\get_stock_returns.py:15: FutureWarning: DataFrame.fillna with 'method' is deprecated and will raise in a future version. Use obj.ffill() or obj.bfill() instead.\n",
            "  stock_df = stock_df.fillna(method=\"ffill\").fillna(method=\"bfill\")\n",
            "c:\\Users\\Chitra Vadlamani\\Desktop\\portfolio_optimization\\get_stock_returns.py:15: FutureWarning: DataFrame.fillna with 'method' is deprecated and will raise in a future version. Use obj.ffill() or obj.bfill() instead.\n",
            "  stock_df = stock_df.fillna(method=\"ffill\").fillna(method=\"bfill\")\n",
            "c:\\Users\\Chitra Vadlamani\\Desktop\\portfolio_optimization\\get_stock_returns.py:15: FutureWarning: DataFrame.fillna with 'method' is deprecated and will raise in a future version. Use obj.ffill() or obj.bfill() instead.\n",
            "  stock_df = stock_df.fillna(method=\"ffill\").fillna(method=\"bfill\")\n",
            "c:\\Users\\Chitra Vadlamani\\Desktop\\portfolio_optimization\\get_stock_returns.py:15: FutureWarning: DataFrame.fillna with 'method' is deprecated and will raise in a future version. Use obj.ffill() or obj.bfill() instead.\n",
            "  stock_df = stock_df.fillna(method=\"ffill\").fillna(method=\"bfill\")\n",
            "c:\\Users\\Chitra Vadlamani\\Desktop\\portfolio_optimization\\get_stock_returns.py:28: FutureWarning: DataFrame.fillna with 'method' is deprecated and will raise in a future version. Use obj.ffill() or obj.bfill() instead.\n",
            "  return_df = return_df.fillna(method=\"ffill\").fillna(method=\"bfill\")\n",
            "c:\\Users\\Chitra Vadlamani\\Desktop\\portfolio_optimization\\get_stock_returns.py:15: FutureWarning: DataFrame.fillna with 'method' is deprecated and will raise in a future version. Use obj.ffill() or obj.bfill() instead.\n",
            "  stock_df = stock_df.fillna(method=\"ffill\").fillna(method=\"bfill\")\n",
            "c:\\Users\\Chitra Vadlamani\\Desktop\\portfolio_optimization\\get_stock_returns.py:15: FutureWarning: DataFrame.fillna with 'method' is deprecated and will raise in a future version. Use obj.ffill() or obj.bfill() instead.\n",
            "  stock_df = stock_df.fillna(method=\"ffill\").fillna(method=\"bfill\")\n",
            "c:\\Users\\Chitra Vadlamani\\Desktop\\portfolio_optimization\\get_stock_returns.py:15: FutureWarning: DataFrame.fillna with 'method' is deprecated and will raise in a future version. Use obj.ffill() or obj.bfill() instead.\n",
            "  stock_df = stock_df.fillna(method=\"ffill\").fillna(method=\"bfill\")\n",
            "c:\\Users\\Chitra Vadlamani\\Desktop\\portfolio_optimization\\get_stock_returns.py:15: FutureWarning: DataFrame.fillna with 'method' is deprecated and will raise in a future version. Use obj.ffill() or obj.bfill() instead.\n",
            "  stock_df = stock_df.fillna(method=\"ffill\").fillna(method=\"bfill\")\n",
            "c:\\Users\\Chitra Vadlamani\\Desktop\\portfolio_optimization\\get_stock_returns.py:15: FutureWarning: DataFrame.fillna with 'method' is deprecated and will raise in a future version. Use obj.ffill() or obj.bfill() instead.\n",
            "  stock_df = stock_df.fillna(method=\"ffill\").fillna(method=\"bfill\")\n",
            "c:\\Users\\Chitra Vadlamani\\Desktop\\portfolio_optimization\\get_stock_returns.py:28: FutureWarning: DataFrame.fillna with 'method' is deprecated and will raise in a future version. Use obj.ffill() or obj.bfill() instead.\n",
            "  return_df = return_df.fillna(method=\"ffill\").fillna(method=\"bfill\")\n",
            "c:\\Users\\Chitra Vadlamani\\Desktop\\portfolio_optimization\\run.py:27: FutureWarning: DataFrame.fillna with 'method' is deprecated and will raise in a future version. Use obj.ffill() or obj.bfill() instead.\n",
            "  ins_return_df = ins_return_df.fillna(method=\"ffill\").fillna(0)\n",
            "c:\\Users\\Chitra Vadlamani\\Desktop\\portfolio_optimization\\run.py:30: FutureWarning: DataFrame.fillna with 'method' is deprecated and will raise in a future version. Use obj.ffill() or obj.bfill() instead.\n",
            "  oos_return_df = oos_return_df.fillna(method=\"ffill\").fillna(0)\n"
          ]
        },
        {
          "name": "stdout",
          "output_type": "stream",
          "text": [
            "{'job_submission': {'problem_config': {'quadratic_linearly_constrained_binary_optimization': {'constraints_file_id': '667035cd98263204a365dabb', 'objective_file_id': '667035cd98263204a365dab9', 'alpha': 1.0}}, 'device_config': {'dirac-1': {'num_samples': 5}}, 'job_name': 'tutorial_eqc1', 'job_tags': ['tutorial_eqc1']}}\n",
            "2024-06-17 09:10:37 - Dirac allocation balance = 0 s (unmetered)\n",
            "2024-06-17 09:10:38 - Job submitted: job_id='667035cea3e6a645a5c4e71f'\n",
            "2024-06-17 09:10:38 - QUEUED\n",
            "2024-06-17 09:10:40 - RUNNING\n",
            "2024-06-17 09:11:45 - COMPLETED\n",
            "2024-06-17 09:11:48 - Dirac allocation balance = 0 s (unmetered)\n",
            "{'job_info': {'job_id': '667035cea3e6a645a5c4e71f', 'job_submission': {'job_name': 'tutorial_eqc1', 'job_tags': ['tutorial_eqc1'], 'problem_config': {'quadratic_linearly_constrained_binary_optimization': {'constraints_file_id': '667035cd98263204a365dabb', 'objective_file_id': '667035cd98263204a365dab9', 'alpha': 1, 'atol': 1e-10}}, 'device_config': {'dirac-1': {'num_samples': 5}}}, 'job_status': {'submitted_at_rfc3339nano': '2024-06-17T13:10:38.032Z', 'queued_at_rfc3339nano': '2024-06-17T13:10:38.033Z', 'running_at_rfc3339nano': '2024-06-17T13:10:38.224Z', 'completed_at_rfc3339nano': '2024-06-17T13:11:42.9Z'}, 'job_result': {'file_id': '6670360e98263204a365dabd', 'device_usage_s': 64}}, 'status': 'COMPLETED', 'results': {'counts': [5], 'energies': [-8.993657729952648], 'feasibilities': [True], 'objective_values': [0.0063417898174550425], 'solutions': [[0, 1, 0, 1, 1]]}}\n",
            "In optimize_portfolio; done with checking constraints; 71.80 seconds!\n"
          ]
        }
      ],
      "source": [
        "from run import run\n",
        "from drop_stocks import fetch_data\n",
        "import datetime\n",
        "import os\n",
        "from parameters import OUT_OF_SAMPLE_DAYS, min_date, max_date,SEL_STOCK_OUT_FILE\n",
        "\n",
        "\n",
        "fetch_data()\n",
        "#min_date = pd.to_datetime(\"2022-01-13\")\n",
        "curr_date = min_date\n",
        "\n",
        "tmp_sel_stock_df = run(curr_date)\n",
        "\n",
        "if os.path.exists(SEL_STOCK_OUT_FILE):\n",
        "    tmp_sel_stock_df.to_csv(\n",
        "        SEL_STOCK_OUT_FILE, index=False, mode=\"a\", header=False,\n",
        "    )\n",
        "else:\n",
        "    tmp_sel_stock_df.to_csv(\n",
        "        SEL_STOCK_OUT_FILE, index=False,\n",
        "    )\n",
        "\n",
        "curr_date += datetime.timedelta(days=OUT_OF_SAMPLE_DAYS + 1)\n",
        "\n",
        "\n"
      ]
    },
    {
      "cell_type": "code",
      "execution_count": null,
      "metadata": {},
      "outputs": [
        {
          "data": {
            "text/html": [
              "<table border=\"1\" class=\"dataframe\">\n",
              "  <thead>\n",
              "    <tr style=\"text-align: right;\">\n",
              "      <th></th>\n",
              "      <th>Stock</th>\n",
              "    </tr>\n",
              "  </thead>\n",
              "  <tbody>\n",
              "    <tr>\n",
              "      <th>0</th>\n",
              "      <td>AMZN</td>\n",
              "    </tr>\n",
              "    <tr>\n",
              "      <th>1</th>\n",
              "      <td>AAPL</td>\n",
              "    </tr>\n",
              "    <tr>\n",
              "      <th>2</th>\n",
              "      <td>MSFT</td>\n",
              "    </tr>\n",
              "  </tbody>\n",
              "</table>"
            ],
            "text/plain": [
              "<IPython.core.display.HTML object>"
            ]
          },
          "metadata": {},
          "output_type": "display_data"
        }
      ],
      "source": [
        "from IPython.display import display, HTML\n",
        "display(HTML(tmp_sel_stock_df[[\"Stock\"]].tail(3).to_html()))"
      ]
    }
  ],
  "metadata": {
    "colab": {
      "provenance": []
    },
    "kernelspec": {
      "display_name": "Python 3",
      "name": "python3"
    },
    "language_info": {
      "codemirror_mode": {
        "name": "ipython",
        "version": 3
      },
      "file_extension": ".py",
      "mimetype": "text/x-python",
      "name": "python",
      "nbconvert_exporter": "python",
      "pygments_lexer": "ipython3",
      "version": "3.12.4"
    }
  },
  "nbformat": 4,
  "nbformat_minor": 0
}
